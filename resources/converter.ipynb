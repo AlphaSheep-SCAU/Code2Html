{
 "cells": [
  {
   "cell_type": "code",
   "execution_count": 5,
   "metadata": {
    "collapsed": false,
    "deletable": true,
    "editable": true
   },
   "outputs": [],
   "source": [
    "import xml.etree.ElementTree as ET\n",
    "from os import listdir\n",
    "from os.path import isfile, join\n",
    "\n",
    "SRC_DIR = './tmTheme'\n",
    "DIST_DIR = './themeCSS'\n",
    "filenames = [filename for filename in listdir(SRC_DIR) if isfile(join(SRC_DIR, filename))]"
   ]
  },
  {
   "cell_type": "code",
   "execution_count": 6,
   "metadata": {
    "collapsed": true,
    "deletable": true,
    "editable": true
   },
   "outputs": [],
   "source": [
    "def parse_array(array_node):\n",
    "    result = []\n",
    "    for child in array_node:\n",
    "        if child.tag == 'dict':\n",
    "            result.append(parse_dict(child))\n",
    "    return result\n",
    "\n",
    "def parse_dict(dict_node):\n",
    "    result = {}\n",
    "    key = None\n",
    "    for child in dict_node:\n",
    "        if child.tag == 'key':\n",
    "            key = child.text\n",
    "        elif child.tag == 'string':\n",
    "            result[key] = child.text\n",
    "        elif child.tag == 'dict':\n",
    "            result[key] = parse_dict(child)\n",
    "        elif child.tag == 'array':\n",
    "            result[key] = parse_array(child)\n",
    "    return result"
   ]
  },
  {
   "cell_type": "code",
   "execution_count": 7,
   "metadata": {
    "collapsed": false,
    "deletable": true,
    "editable": true
   },
   "outputs": [],
   "source": [
    "for filename in filenames:\n",
    "    filepath = join(SRC_DIR, filename)\n",
    "    tree = ET.parse(filepath)\n",
    "    root = tree.getroot() # plist\n",
    "\n",
    "    assert(root.tag == 'plist')\n",
    "    d = parse_dict(root[0])\n",
    "    \n",
    "    settings = d['settings']\n",
    "\n",
    "    result = ''\n",
    "\n",
    "    for value in settings:\n",
    "        if 'name' not in value:\n",
    "            result += 'body {\\n'\n",
    "            if 'foreground' in value['settings']:\n",
    "                    result += '    color: ' + value['settings']['foreground'] + ';\\n'\n",
    "            if 'background' in value['settings']:\n",
    "                result += '    background-color: ' + value['settings']['background'] + ';\\n'\n",
    "            result += '} \\n'\n",
    "            continue\n",
    "        if 'scope' not in value:\n",
    "            continue\n",
    "        scope = value['scope'].replace('.', '-')\n",
    "        ss = scope.split(',')\n",
    "        for s in ss:\n",
    "            s = s.strip()\n",
    "            result += '.' + 'jc-' + s + ' {' + '\\n'\n",
    "            if 'settings' in value:\n",
    "                if 'foreground' in value['settings'] and value['settings']['foreground']:\n",
    "                    result += '    color: ' + value['settings']['foreground'] + ';\\n'\n",
    "                if 'background' in value['settings'] and value['settings']['background']:\n",
    "                    result += '    background-color: ' + value['settings']['background'] + ';\\n'\n",
    "            result += '} \\n'\n",
    "    \n",
    "    target_path = join(DIST_DIR, filename) + '.css'\n",
    "    with open(target_path, 'w') as f:\n",
    "        f.write(result)"
   ]
  },
  {
   "cell_type": "code",
   "execution_count": null,
   "metadata": {
    "collapsed": true,
    "deletable": true,
    "editable": true
   },
   "outputs": [],
   "source": []
  }
 ],
 "metadata": {
  "kernelspec": {
   "display_name": "Python 3",
   "language": "python",
   "name": "python3"
  },
  "language_info": {
   "codemirror_mode": {
    "name": "ipython",
    "version": 3
   },
   "file_extension": ".py",
   "mimetype": "text/x-python",
   "name": "python",
   "nbconvert_exporter": "python",
   "pygments_lexer": "ipython3",
   "version": "3.5.2"
  }
 },
 "nbformat": 4,
 "nbformat_minor": 2
}
